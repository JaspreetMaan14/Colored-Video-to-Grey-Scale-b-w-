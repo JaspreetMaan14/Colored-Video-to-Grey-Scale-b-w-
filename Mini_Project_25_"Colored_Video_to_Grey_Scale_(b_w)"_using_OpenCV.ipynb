{
  "nbformat": 4,
  "nbformat_minor": 0,
  "metadata": {
    "colab": {
      "provenance": [],
      "authorship_tag": "ABX9TyMHys6Try3lNfM2Gvq6eVwE",
      "include_colab_link": true
    },
    "kernelspec": {
      "name": "python3",
      "display_name": "Python 3"
    },
    "language_info": {
      "name": "python"
    }
  },
  "cells": [
    {
      "cell_type": "markdown",
      "metadata": {
        "id": "view-in-github",
        "colab_type": "text"
      },
      "source": [
        "<a href=\"https://colab.research.google.com/github/JaspreetMaan14/Colored-Video-to-Grey-Scale-b-w-/blob/main/Mini_Project_25_%22Colored_Video_to_Grey_Scale_(b_w)%22_using_OpenCV.ipynb\" target=\"_parent\"><img src=\"https://colab.research.google.com/assets/colab-badge.svg\" alt=\"Open In Colab\"/></a>"
      ]
    },
    {
      "cell_type": "code",
      "source": [
        "#Install OpenCV (if not already installed)\n",
        "!pip install opencv-python\n"
      ],
      "metadata": {
        "colab": {
          "base_uri": "https://localhost:8080/"
        },
        "id": "q7MD6B0tYemA",
        "outputId": "b7d8be36-294c-4e95-dd50-6f5c6e4cae1a"
      },
      "execution_count": 8,
      "outputs": [
        {
          "output_type": "stream",
          "name": "stdout",
          "text": [
            "Requirement already satisfied: opencv-python in /usr/local/lib/python3.11/dist-packages (4.11.0.86)\n",
            "Requirement already satisfied: numpy>=1.21.2 in /usr/local/lib/python3.11/dist-packages (from opencv-python) (2.0.2)\n"
          ]
        }
      ]
    },
    {
      "cell_type": "code",
      "source": [
        "import cv2\n",
        "import os"
      ],
      "metadata": {
        "id": "PkcmDTn6YoWM"
      },
      "execution_count": 9,
      "outputs": []
    },
    {
      "cell_type": "code",
      "source": [
        "#Step 1: Set input and output paths\n",
        "input_video_path = '/content/flowers.mp4'   # Change this to your input video file\n",
        "output_video_path = 'output_grayscale_video.mp4'"
      ],
      "metadata": {
        "id": "tSuQdzVAYsUh"
      },
      "execution_count": 10,
      "outputs": []
    },
    {
      "cell_type": "code",
      "source": [
        "#Step 2: Check if input file exists\n",
        "if not os.path.exists(input_video_path):\n",
        "    raise FileNotFoundError(f\"File '{input_video_path}' not found. Please check the path.\")"
      ],
      "metadata": {
        "id": "xQ6j8yudar85"
      },
      "execution_count": 11,
      "outputs": []
    },
    {
      "cell_type": "code",
      "source": [
        "#Step 3: Load input video\n",
        "cap = cv2.VideoCapture(input_video_path)"
      ],
      "metadata": {
        "id": "zOw4pX5jayH6"
      },
      "execution_count": 12,
      "outputs": []
    },
    {
      "cell_type": "code",
      "source": [
        "# Get video properties\n",
        "frame_width = int(cap.get(cv2.CAP_PROP_FRAME_WIDTH))\n",
        "frame_height = int(cap.get(cv2.CAP_PROP_FRAME_HEIGHT))\n",
        "fps = cap.get(cv2.CAP_PROP_FPS)\n",
        "fourcc = cv2.VideoWriter_fourcc(*'mp4v')"
      ],
      "metadata": {
        "id": "1OX4bjeJa1qv"
      },
      "execution_count": 13,
      "outputs": []
    },
    {
      "cell_type": "code",
      "source": [
        "#Step 4: Create VideoWriter object\n",
        "out = cv2.VideoWriter(output_video_path, fourcc, fps, (frame_width, frame_height), isColor=False)\n",
        "\n",
        "print(\"Processing video...\")\n"
      ],
      "metadata": {
        "colab": {
          "base_uri": "https://localhost:8080/"
        },
        "id": "iBTK0RH9a52q",
        "outputId": "83af7339-0b1e-4f0b-cc94-980fa29d4077"
      },
      "execution_count": 14,
      "outputs": [
        {
          "output_type": "stream",
          "name": "stdout",
          "text": [
            "Processing video...\n"
          ]
        }
      ]
    },
    {
      "cell_type": "code",
      "source": [
        "#Step 5: Read frames and convert to grayscale\n",
        "while True:\n",
        "    ret, frame = cap.read()\n",
        "    if not ret:\n",
        "        break  # End of video\n",
        "\n",
        "    # Convert frame to grayscale\n",
        "    gray_frame = cv2.cvtColor(frame, cv2.COLOR_BGR2GRAY)\n",
        "\n",
        "    # Write grayscale frame to output\n",
        "    out.write(gray_frame)"
      ],
      "metadata": {
        "id": "HWu1kozAbBV9"
      },
      "execution_count": 15,
      "outputs": []
    },
    {
      "cell_type": "code",
      "source": [
        "#Step 6: Release everything\n",
        "cap.release()\n",
        "out.release()\n",
        "\n",
        "print(f\"Video successfully converted to grayscale and saved as '{output_video_path}'\")"
      ],
      "metadata": {
        "colab": {
          "base_uri": "https://localhost:8080/"
        },
        "id": "vG4AnDIYbIM9",
        "outputId": "b9c3b92c-ede7-42af-8062-1c583c0340a9"
      },
      "execution_count": 16,
      "outputs": [
        {
          "output_type": "stream",
          "name": "stdout",
          "text": [
            "Video successfully converted to grayscale and saved as 'output_grayscale_video.mp4'\n"
          ]
        }
      ]
    }
  ]
}